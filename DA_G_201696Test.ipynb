{
 "cells": [
  {
   "cell_type": "code",
   "execution_count": 50,
   "id": "819db206-91c2-44d6-a485-646199b92c5e",
   "metadata": {},
   "outputs": [
    {
     "name": "stdin",
     "output_type": "stream",
     "text": [
      "Enter an input:  1\n",
      "Enter an input:  2\n",
      "Enter an input:  3\n",
      "Enter an input:  0\n",
      "Enter an input:  0\n",
      "Enter an input:  0\n",
      "Enter an input:  -1\n",
      "Enter an input:  -2\n",
      "Enter an input:  -3\n",
      "Enter an input:  a\n"
     ]
    },
    {
     "name": "stdout",
     "output_type": "stream",
     "text": [
      "Positive: 3\n",
      "Negative: 3\n",
      "Zeroes: 3\n"
     ]
    }
   ],
   "source": [
    "negative = 0\n",
    "positive = 0\n",
    "zeroes = 0\n",
    "while True:\n",
    "    inputs = input(\"Enter an input: \")\n",
    "    if inputs == \"a\":\n",
    "        break\n",
    "    elif int(inputs) < 0:\n",
    "        negative += 1\n",
    "        continue\n",
    "    elif int(inputs) == 0:\n",
    "        zeroes += 1\n",
    "        continue\n",
    "    elif int(inputs) > 0:\n",
    "        positive += 1\n",
    "        continue\n",
    "print(f\"Positive: {positive}\\nNegative: {negative}\\nZeroes: {zeroes}\")"
   ]
  },
  {
   "cell_type": "code",
   "execution_count": 33,
   "id": "59eb3f8a-6391-47d7-b4af-615053c254e8",
   "metadata": {},
   "outputs": [
    {
     "name": "stdin",
     "output_type": "stream",
     "text": [
      "Enter amount of coffee in grams:  40\n",
      "Do you want your coffee sweet or acidic? sweet\n",
      "Do you want your coffee strong, Y or N n\n"
     ]
    },
    {
     "name": "stdout",
     "output_type": "stream",
     "text": [
      "Water pour plan: \n",
      "First Part(240.0g): \n",
      "Pour 1: 240.0\n",
      "Pour 2: 144.0\n",
      "Second Part(360.0g): \n",
      "Pour 3: 180.0\n",
      "Pour 4: 180.0\n"
     ]
    }
   ],
   "source": [
    "### No. 2 The 4:6 Coffee Brewing Method\n",
    "\n",
    "pour_1 = 0\n",
    "pour_2 = 0\n",
    "pour_3 = 0\n",
    "coffee_grams = int(input(\"Enter amount of coffee in grams: \"))\n",
    "water_grams = 15 * coffee_grams\n",
    "while True: \n",
    "    coffee_type = input(\"Do you want your coffee sweet or acidic?\")\n",
    "    if coffee_type == \"sweet\":\n",
    "        pour_1 = (0.4 * water_grams)\n",
    "        pour_2 = (0.6 * pour_1)\n",
    "        break\n",
    "    elif coffee_type == \"acidic\":\n",
    "        pour_1 = (0.6 *(0.4*water_grams))\n",
    "        pour_2 = (0.4*(0.4*water_grams))\n",
    "        break\n",
    "    else: \n",
    "        print(\"You entered an invalid option please try again.\")\n",
    "        coffee_type = input(\"Do you want your coffee sweet or acidic?\")\n",
    "        continue\n",
    "        \n",
    "while True: \n",
    "    strength = input(\"Do you want your coffee strong, Y or N\")\n",
    "    if coffee_type == \"sweet\":\n",
    "        pour_1 = (0.4 * water_grams)\n",
    "        pour_2 = (0.6 * pour_1)\n",
    "        break\n",
    "    elif coffee_type == \"acidic\":\n",
    "        pour_1 = (0.6 *(0.4*water_grams))\n",
    "        pour_2 = (0.4*(0.4*water_grams))\n",
    "        break\n",
    "    else: \n",
    "        print(\"You entered an invalid option please try again.\")\n",
    "        continue\n",
    "    part_1 = 0.4*water_grams\n",
    "    part_2 = 0.6*water_grams\n",
    "if strength == \"Y\" or strength == \"y\":\n",
    "    pour_3 = part_2 / 4\n",
    "    print(f\"Water pour plan: \\nFirst Part({part_1}g): \\nPour 1: {pour_1}\\nPour 2: {pour_2}\\nSecond Part({part_2}g): \\nPour 3: {pour_3}\\nPour 4: {pour_3}\\nPour 5: {pour_3}\\nPour 6: {pour_3}\")\n",
    "elif strength ==\"N\" or strength == \"n\":\n",
    "    pour_3 = part_2 / 2\n",
    "    print(f\"Water pour plan: \\nFirst Part({part_1}g): \\nPour 1: {pour_1}\\nPour 2: {pour_2}\\nSecond Part({part_2}g): \\nPour 3: {pour_3}\\nPour 4: {pour_3}\")\n",
    "\n",
    "    \n",
    "    "
   ]
  },
  {
   "cell_type": "code",
   "execution_count": 75,
   "id": "93c191b7-891f-4fb3-88be-6a14af2bd364",
   "metadata": {},
   "outputs": [
    {
     "name": "stdout",
     "output_type": "stream",
     "text": [
      "Welcome! Here is our menu\n",
      "\n",
      "\n",
      "\n",
      " - Chicken Burger: Php60\n",
      " - Sisig Burrito: Php 70\n",
      " - Beef Kebab Bowl: Php 80\n",
      " - Calamansi Juice: Php 20\n",
      "What will you have?\n",
      "\n",
      "\n"
     ]
    },
    {
     "name": "stdin",
     "output_type": "stream",
     "text": [
      "('chicken burger', 'sisig burrito', 'beef kebab bowl', 'calamansi juice', or use /checkout to checkout now!)\n",
      " chicken burger\n"
     ]
    },
    {
     "name": "stdout",
     "output_type": "stream",
     "text": [
      "That's Php 60 so far\n"
     ]
    },
    {
     "name": "stdin",
     "output_type": "stream",
     "text": [
      "('chicken burger', 'sisig burrito', 'beef kebab bowl', 'calamansi juice', or use /checkout to checkout now!)\n",
      " chicken burger\n"
     ]
    },
    {
     "name": "stdout",
     "output_type": "stream",
     "text": [
      "That's Php 120 so far\n"
     ]
    },
    {
     "name": "stdin",
     "output_type": "stream",
     "text": [
      "('chicken burger', 'sisig burrito', 'beef kebab bowl', 'calamansi juice', or use /checkout to checkout now!)\n",
      " chicken burger\n"
     ]
    },
    {
     "name": "stdout",
     "output_type": "stream",
     "text": [
      "That's Php 180 so far\n"
     ]
    },
    {
     "name": "stdin",
     "output_type": "stream",
     "text": [
      "('chicken burger', 'sisig burrito', 'beef kebab bowl', 'calamansi juice', or use /checkout to checkout now!)\n",
      " chicken burger\n"
     ]
    },
    {
     "name": "stdout",
     "output_type": "stream",
     "text": [
      "That's Php 240 so far\n"
     ]
    },
    {
     "name": "stdin",
     "output_type": "stream",
     "text": [
      "('chicken burger', 'sisig burrito', 'beef kebab bowl', 'calamansi juice', or use /checkout to checkout now!)\n",
      " chicken burger\n"
     ]
    },
    {
     "name": "stdout",
     "output_type": "stream",
     "text": [
      "That's Php 300 so far\n",
      "That will be a total of Php300.\n"
     ]
    },
    {
     "ename": "KeyboardInterrupt",
     "evalue": "Interrupted by user",
     "output_type": "error",
     "traceback": [
      "\u001b[0;31m---------------------------------------------------------------------------\u001b[0m",
      "\u001b[0;31mKeyboardInterrupt\u001b[0m                         Traceback (most recent call last)",
      "\u001b[0;32m<ipython-input-75-2f839797d455>\u001b[0m in \u001b[0;36m<module>\u001b[0;34m\u001b[0m\n\u001b[1;32m     45\u001b[0m     \u001b[0;32melif\u001b[0m \u001b[0mchange\u001b[0m \u001b[0;34m<\u001b[0m \u001b[0;36m0\u001b[0m\u001b[0;34m:\u001b[0m\u001b[0;34m\u001b[0m\u001b[0;34m\u001b[0m\u001b[0m\n\u001b[1;32m     46\u001b[0m         \u001b[0mprint\u001b[0m\u001b[0;34m(\u001b[0m\u001b[0;34m\"Insufficient payment. Transaction could not be completed\"\u001b[0m\u001b[0;34m)\u001b[0m\u001b[0;34m\u001b[0m\u001b[0;34m\u001b[0m\u001b[0m\n\u001b[0;32m---> 47\u001b[0;31m \u001b[0mcashier\u001b[0m\u001b[0;34m(\u001b[0m\u001b[0;34m)\u001b[0m\u001b[0;34m\u001b[0m\u001b[0;34m\u001b[0m\u001b[0m\n\u001b[0m",
      "\u001b[0;32m<ipython-input-75-2f839797d455>\u001b[0m in \u001b[0;36mcashier\u001b[0;34m()\u001b[0m\n\u001b[1;32m     35\u001b[0m             \u001b[0;32mcontinue\u001b[0m\u001b[0;34m\u001b[0m\u001b[0;34m\u001b[0m\u001b[0m\n\u001b[1;32m     36\u001b[0m     \u001b[0mprint\u001b[0m\u001b[0;34m(\u001b[0m\u001b[0;34mf\"That will be a total of Php{total}.\"\u001b[0m\u001b[0;34m)\u001b[0m\u001b[0;34m\u001b[0m\u001b[0;34m\u001b[0m\u001b[0m\n\u001b[0;32m---> 37\u001b[0;31m     \u001b[0mpayment\u001b[0m \u001b[0;34m=\u001b[0m \u001b[0mfloat\u001b[0m\u001b[0;34m(\u001b[0m\u001b[0minput\u001b[0m\u001b[0;34m(\u001b[0m\u001b[0;34m\"How much will you pay?\"\u001b[0m\u001b[0;34m)\u001b[0m\u001b[0;34m)\u001b[0m\u001b[0;34m\u001b[0m\u001b[0;34m\u001b[0m\u001b[0m\n\u001b[0m\u001b[1;32m     38\u001b[0m     \u001b[0mchange\u001b[0m \u001b[0;34m=\u001b[0m \u001b[0mpayment\u001b[0m \u001b[0;34m-\u001b[0m \u001b[0mtotal\u001b[0m\u001b[0;34m\u001b[0m\u001b[0;34m\u001b[0m\u001b[0m\n\u001b[1;32m     39\u001b[0m     \u001b[0mprint\u001b[0m\u001b[0;34m(\u001b[0m\u001b[0;34m)\u001b[0m\u001b[0;34m\u001b[0m\u001b[0;34m\u001b[0m\u001b[0m\n",
      "\u001b[0;32m~/opt/anaconda3/lib/python3.8/site-packages/ipykernel/kernelbase.py\u001b[0m in \u001b[0;36mraw_input\u001b[0;34m(self, prompt)\u001b[0m\n\u001b[1;32m    858\u001b[0m                 \u001b[0;34m\"raw_input was called, but this frontend does not support input requests.\"\u001b[0m\u001b[0;34m\u001b[0m\u001b[0;34m\u001b[0m\u001b[0m\n\u001b[1;32m    859\u001b[0m             )\n\u001b[0;32m--> 860\u001b[0;31m         return self._input_request(str(prompt),\n\u001b[0m\u001b[1;32m    861\u001b[0m             \u001b[0mself\u001b[0m\u001b[0;34m.\u001b[0m\u001b[0m_parent_ident\u001b[0m\u001b[0;34m,\u001b[0m\u001b[0;34m\u001b[0m\u001b[0;34m\u001b[0m\u001b[0m\n\u001b[1;32m    862\u001b[0m             \u001b[0mself\u001b[0m\u001b[0;34m.\u001b[0m\u001b[0m_parent_header\u001b[0m\u001b[0;34m,\u001b[0m\u001b[0;34m\u001b[0m\u001b[0;34m\u001b[0m\u001b[0m\n",
      "\u001b[0;32m~/opt/anaconda3/lib/python3.8/site-packages/ipykernel/kernelbase.py\u001b[0m in \u001b[0;36m_input_request\u001b[0;34m(self, prompt, ident, parent, password)\u001b[0m\n\u001b[1;32m    902\u001b[0m             \u001b[0;32mexcept\u001b[0m \u001b[0mKeyboardInterrupt\u001b[0m\u001b[0;34m:\u001b[0m\u001b[0;34m\u001b[0m\u001b[0;34m\u001b[0m\u001b[0m\n\u001b[1;32m    903\u001b[0m                 \u001b[0;31m# re-raise KeyboardInterrupt, to truncate traceback\u001b[0m\u001b[0;34m\u001b[0m\u001b[0;34m\u001b[0m\u001b[0;34m\u001b[0m\u001b[0m\n\u001b[0;32m--> 904\u001b[0;31m                 \u001b[0;32mraise\u001b[0m \u001b[0mKeyboardInterrupt\u001b[0m\u001b[0;34m(\u001b[0m\u001b[0;34m\"Interrupted by user\"\u001b[0m\u001b[0;34m)\u001b[0m \u001b[0;32mfrom\u001b[0m \u001b[0;32mNone\u001b[0m\u001b[0;34m\u001b[0m\u001b[0;34m\u001b[0m\u001b[0m\n\u001b[0m\u001b[1;32m    905\u001b[0m             \u001b[0;32mexcept\u001b[0m \u001b[0mException\u001b[0m \u001b[0;32mas\u001b[0m \u001b[0me\u001b[0m\u001b[0;34m:\u001b[0m\u001b[0;34m\u001b[0m\u001b[0;34m\u001b[0m\u001b[0m\n\u001b[1;32m    906\u001b[0m                 \u001b[0mself\u001b[0m\u001b[0;34m.\u001b[0m\u001b[0mlog\u001b[0m\u001b[0;34m.\u001b[0m\u001b[0mwarning\u001b[0m\u001b[0;34m(\u001b[0m\u001b[0;34m\"Invalid Message:\"\u001b[0m\u001b[0;34m,\u001b[0m \u001b[0mexc_info\u001b[0m\u001b[0;34m=\u001b[0m\u001b[0;32mTrue\u001b[0m\u001b[0;34m)\u001b[0m\u001b[0;34m\u001b[0m\u001b[0;34m\u001b[0m\u001b[0m\n",
      "\u001b[0;31mKeyboardInterrupt\u001b[0m: Interrupted by user"
     ]
    },
    {
     "name": "stdin",
     "output_type": "stream",
     "text": [
      "How much will you pay? 100\n"
     ]
    }
   ],
   "source": [
    "### No. 3 Restaurant Cashier Simulation\n",
    "def cashier():\n",
    "    total = 0\n",
    "    counter = 0\n",
    "    print(\"Welcome! Here is our menu\\n\\n\\n\\n - Chicken Burger: Php60\\n - Sisig Burrito: Php 70\\n - Beef Kebab Bowl: Php 80\\n - Calamansi Juice: Php 20\")\n",
    "    print(\"What will you have?\")\n",
    "    print()\n",
    "    print()\n",
    "    while counter<5: \n",
    "        order = input(\"('chicken burger', 'sisig burrito', 'beef kebab bowl', 'calamansi juice', or use /checkout to checkout now!)\\n\")\n",
    "        if order == \"chicken burger\":\n",
    "            total += 60\n",
    "            counter += 1\n",
    "            print(f\"That's Php {total} so far\")\n",
    "            continue\n",
    "        elif order == \"sisig burrito\":\n",
    "            total += 70\n",
    "            counter += 1\n",
    "            print(f\"That's Php {total} so far\")\n",
    "            continue\n",
    "        elif order == \"beef kebab bowl\":\n",
    "            total += 80\n",
    "            counter += 1\n",
    "            print(f\"That's Php {total} so far\")\n",
    "            continue\n",
    "        elif order == \"calamansi juice\":\n",
    "            total += 20\n",
    "            counter += 1\n",
    "            print(f\"That's Php {total} so far\")\n",
    "            continue\n",
    "        elif order == \"/checkout\":\n",
    "            break\n",
    "        else: \n",
    "            print(\"Oops thats not on our menu. Please choose a valid option\")\n",
    "            continue\n",
    "    print(f\"That will be a total of Php{total}.\")\n",
    "    payment = float(input(\"How much will you pay?\"))\n",
    "    change = payment - total\n",
    "    print()\n",
    "    print()\n",
    "    if change == 0:\n",
    "        print(f\"Thank you for paying the exact amount. Enjoy your order!\")\n",
    "    elif change > 0:\n",
    "        print(f\"Thank you for your payment. Your change is Php{change}. Enjoy your order!\")\n",
    "    elif change < 0:\n",
    "        print(\"Insufficient payment. Transaction could not be completed\")\n",
    "cashier()"
   ]
  },
  {
   "cell_type": "code",
   "execution_count": 73,
   "id": "13f4556f-ca2c-4e66-8daf-98c33860bb12",
   "metadata": {},
   "outputs": [
    {
     "name": "stdin",
     "output_type": "stream",
     "text": [
      " 5\n"
     ]
    },
    {
     "name": "stdout",
     "output_type": "stream",
     "text": [
      "* * * * * * * * * \n",
      "* * * * *       * \n",
      "* * * * *       * \n",
      "* * * * *       * \n",
      "* * * * * * * * * \n",
      "*       * * * * * \n",
      "*       * * * * * \n",
      "*       * * * * * \n",
      "* * * * * * * * * \n"
     ]
    }
   ],
   "source": [
    "### No. 4 Hollow Squares with Diagonal Shades\n",
    "num_input = int(input())\n",
    "for x in range(0, ((num_input * 2) - 1)):\n",
    "    for y in range(0, ((num_input * 2) - 1)): \n",
    "        if x == 0 or x == (num_input * 2) - 2 or x == num_input - 1 or y == 0 or y == (num_input * 2) - 2 or y == num_input - 1 or (x < num_input - 1 and y < num_input - 1) or (x > num_input - 1 and y > num_input - 1):\n",
    "            print(\"*\", end = \" \")\n",
    "        else: \n",
    "            print(\" \", end = \" \")\n",
    "    print()"
   ]
  },
  {
   "cell_type": "code",
   "execution_count": 90,
   "id": "5a416f40-bfd7-4de6-8f64-8c8a89fddee6",
   "metadata": {},
   "outputs": [
    {
     "name": "stdout",
     "output_type": "stream",
     "text": [
      "Grilled Tiger Fish: 18\n",
      "Jade Parcels: 25\n",
      "Jueyen Chili Chicken: 27\n"
     ]
    }
   ],
   "source": [
    "### No. 5 Wanmin Food Cart Project\n",
    "budget = 15000\n",
    "total_counter = 0\n",
    "budget -= 1500\n",
    "budget -= 25*250\n",
    "fish = 0\n",
    "chicken = 0\n",
    "jade = 25\n",
    "fish_counter = 0\n",
    "chicken_counter = 0\n",
    "while budget >0 and total_counter <=50:\n",
    "    fish_counter = 0\n",
    "    chicken_counter = 0\n",
    "    fish += 2\n",
    "    chicken += 3\n",
    "    if fish% 2 == 0:\n",
    "        fish_counter += fish\n",
    "        budget -= fish_counter*100\n",
    "    elif fish%2 != 0:\n",
    "        continue\n",
    "    if chicken% 3 == 0:\n",
    "        budget -= chicken_counter*150\n",
    "    elif chicken%3 != 0:\n",
    "        continue\n",
    "    total_counter = fish_counter + jade + chicken_counter\n",
    "    \n",
    "print(f\"Grilled Tiger Fish: {fish}\")\n",
    "print(f\"Jade Parcels: {jade}\")\n",
    "print(f\"Jueyen Chili Chicken: {chicken}\")\n",
    "##My guess i used math, the most optimal is 25 jade parcels, 20, grilled tiger fish, and 5 jueyen chili chicken"
   ]
  },
  {
   "cell_type": "code",
   "execution_count": null,
   "id": "3ab19b70-1fc8-4eab-b6bf-626bcecd07e5",
   "metadata": {},
   "outputs": [],
   "source": []
  }
 ],
 "metadata": {
  "kernelspec": {
   "display_name": "Python 3",
   "language": "python",
   "name": "python3"
  },
  "language_info": {
   "codemirror_mode": {
    "name": "ipython",
    "version": 3
   },
   "file_extension": ".py",
   "mimetype": "text/x-python",
   "name": "python",
   "nbconvert_exporter": "python",
   "pygments_lexer": "ipython3",
   "version": "3.8.8"
  }
 },
 "nbformat": 4,
 "nbformat_minor": 5
}
